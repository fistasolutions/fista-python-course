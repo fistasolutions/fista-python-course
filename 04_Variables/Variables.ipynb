{
 "cells": [
  {
   "cell_type": "markdown",
   "metadata": {},
   "source": [
    "## 🔦 Variables in Python   - A Comprehensive Guide\n",
    "\n",
    "### 🌹 What is a Variable?  \n",
    "A **variable** in Python is a symbolic name that refers to a memory location storing a value. Variables help in storing and manipulating data in a program. \n",
    "# Variables are named containers that store values.  Think of them as labels for data.\n",
    "\n",
    "### 🔹 Variable Naming Rules\n",
    " - Must start with a letter or underscore.\n",
    " - Can contain letters, numbers, and underscores.\n",
    " - Case-sensitive (my_var and My_Var are different).\n",
    " - No keywords (if, for, while, print, etc.).\n",
    " - Best practices: descriptive names (snake_case)."
   ]
  },
  {
   "cell_type": "code",
   "execution_count": 3,
   "metadata": {},
   "outputs": [
    {
     "name": "stdout",
     "output_type": "stream",
     "text": [
      "Muhammad Usman 30 25 10\n"
     ]
    }
   ],
   "source": [
    "#### 1️⃣ Examples:\n",
    "name = \"Muhammad Usman\"\n",
    "age = 30\n",
    "user_age = 25  # Snake case\n",
    "_count = 10\n",
    "print(name, age, user_age, _count)"
   ]
  },
  {
   "cell_type": "markdown",
   "metadata": {},
   "source": [
    "# Data Types (Dynamic Typing)\n",
    "Python infers the type based on the assigned value."
   ]
  },
  {
   "cell_type": "code",
   "execution_count": 4,
   "metadata": {},
   "outputs": [
    {
     "name": "stdout",
     "output_type": "stream",
     "text": [
      "Muhammad Usman 30 9.99 True\n"
     ]
    }
   ],
   "source": [
    "# Numeric Types:\n",
    "age = 30       # int\n",
    "price = 9.99   # float\n",
    "# complex_num = 2 + 3j  # complex (less common)\n",
    "\n",
    "# String Type:\n",
    "name = \"Muhammad Usman\"  # str\n",
    "message = 'Hello!'  # Also str\n",
    "\n",
    "# Boolean Type:\n",
    "is_adult = True  # bool (True or False)\n",
    "\n",
    "print(name, age, price, is_adult)"
   ]
  },
  {
   "cell_type": "markdown",
   "metadata": {},
   "source": [
    "## 🌹 Dynamic Typing in Python  \n",
    "\n",
    "### 🌟 What is Dynamic Typing?  \n",
    "Python uses **dynamic typing**, meaning that the type of a variable is determined at runtime. You do not need to declare the type explicitly; Python assigns it based on the value stored. A variable can hold different types of data at different times.\n",
    "\n",
    "### 🔹 Characteristics of Dynamic Typing  \n",
    "- **No explicit type declaration:** Python assigns types automatically.  \n",
    "- **Type changes at runtime:** A variable can store different data types during execution.  \n",
    "- **Memory management:** Python handles type storage and conversion internally.  \n",
    "\n",
    "### 🛠️ Example of Dynamic Typing  \n",
    "```python\n",
    "x = 10  # x is an integer\n",
    "print(type(x))  # Output: <class 'int'>\n",
    "\n",
    "x = \"Hello, Python!\"  # Now x is a string\n",
    "print(type(x))  # Output: <class 'str'>\n",
    "\n",
    "x = 3.14  # Now x is a float\n",
    "print(type(x))  # Output: <class 'float'>\n",
    "```\n",
    "\n",
    "### 🔄 Pros & Cons of Dynamic Typing  \n",
    "| Pros ✅ | Cons ❌ |\n",
    "|---------|---------|\n",
    "| Faster development | More prone to runtime errors |\n",
    "| No need to specify types | Harder to debug large projects |\n",
    "| More flexible for scripting | Slightly slower due to type checking at runtime |\n",
    "\n",
    "### 🎯 When to Use Dynamic Typing?  \n",
    "- When writing **quick scripts** or prototypes.  \n",
    "- When **flexibility** is required in variable usage.  \n",
    "- When working with **data processing and automation**, where types may vary.  \n",
    "\n",
    "---\n",
    "Would you like to explore **type hints** and how they can be used with dynamic typing? 🚀\n",
    "\n"
   ]
  },
  {
   "cell_type": "code",
   "execution_count": 5,
   "metadata": {},
   "outputs": [
    {
     "name": "stdout",
     "output_type": "stream",
     "text": [
      "<class 'int'>\n",
      "<class 'str'>\n",
      "<class 'list'>\n"
     ]
    }
   ],
   "source": [
    "# Dynamic Typing in Action\n",
    "x = 10      # x is an integer\n",
    "print(type(x)) # Output: <class 'int'>\n",
    "x = \"hello\" # x is now a string!\n",
    "print(type(x)) # Output: <class 'str'>\n",
    "x = [1, 2]  # x is now a list!\n",
    "print(type(x)) # Output: <class 'list'>"
   ]
  },
  {
   "cell_type": "markdown",
   "metadata": {},
   "source": [
    "## 🔬 Type Hinting (Static Typing - Optional but Recommended)  \n",
    "\n",
    "### 🌟 What is Type Hinting?  \n",
    "Type hinting in Python allows specifying the expected data types of variables, function parameters, and return values. It enhances **code readability**, **reduces bugs**, and improves **editor support** (e.g., autocomplete, static analysis).  \n",
    "\n",
    "### 🔹 Benefits of Type Hinting  \n",
    "- **Improves code clarity** by explicitly defining types.  \n",
    "- **Helps detect errors** before runtime with static analysis tools like `mypy`.  \n",
    "- **Enhances IDE support** by providing better suggestions and warnings.  \n",
    "- **Optional**—Python remains dynamically typed even with hints.  \n",
    "\n",
    "### 🎯 When to Use Type Hinting?  \n",
    "- When working on **large projects** to maintain clarity.  \n",
    "- When using **team-based development** to ensure consistency.  \n",
    "- When integrating with **static analysis tools** for better debugging.  \n",
    "\n"
   ]
  },
  {
   "cell_type": "code",
   "execution_count": 6,
   "metadata": {},
   "outputs": [
    {
     "name": "stdout",
     "output_type": "stream",
     "text": [
      "Muhammad Usman 29 5.9 True\n"
     ]
    }
   ],
   "source": [
    "### 🛠️ Example of Type Hinting  \n",
    "name: str = \"Muhammad Usman\"\n",
    "age: int = 29\n",
    "height: float = 5.9\n",
    "is_active: bool = True\n",
    "\n",
    "print(name, age, height, is_active)"
   ]
  },
  {
   "cell_type": "markdown",
   "metadata": {},
   "source": [
    "## 🔄 Type Conversion (Casting) in Python  \n",
    "\n",
    "### 🌟 What is Type Conversion?  \n",
    "Type conversion, also known as **casting**, is the process of converting one data type into another. Python supports both **implicit** and **explicit** type conversion.  \n",
    "\n",
    "---\n",
    "\n",
    "## 🔹 Implicit Type Conversion (Automatic Casting)  \n",
    "Python automatically converts one data type into another **without user intervention** when it is safe to do so.  \n"
   ]
  },
  {
   "cell_type": "code",
   "execution_count": 7,
   "metadata": {},
   "outputs": [
    {
     "name": "stdout",
     "output_type": "stream",
     "text": [
      "20.5\n",
      "<class 'float'>\n"
     ]
    }
   ],
   "source": [
    "### 🛠️ Example of Implicit Type Conversion  \n",
    "\n",
    "num_int = 10  # Integer\n",
    "num_float = 10.5  # Float\n",
    "result = num_int + num_float  # Integer is automatically converted to float\n",
    "\n",
    "print(result)  # Output: 20.5\n",
    "print(type(result))  # Output: <class 'float'>\n"
   ]
  },
  {
   "cell_type": "markdown",
   "metadata": {},
   "source": [
    "### ⚠️ When Does Implicit Conversion Occur?  \n",
    "- When combining **integers and floats**.\n",
    "- When performing operations between **compatible types**.\n",
    "- When assigning a smaller type to a larger type (e.g., `int` → `float`).\n",
    "\n",
    "---\n",
    "\n",
    "## 🔹 Explicit Type Conversion (Manual Casting)  \n",
    "Sometimes, Python does not automatically convert types. In such cases, we can **manually cast** using built-in functions.  \n",
    "\n",
    "### 🛠️ Common Type Conversion Functions  \n",
    "| Function  | Converts To | Example Usage |\n",
    "|-----------|------------|--------------|\n",
    "| `int(x)`  | Integer    | `int(3.7) → 3` |\n",
    "| `float(x)` | Float      | `float(5) → 5.0` |\n",
    "| `str(x)`  | String     | `str(10) → '10'` |\n",
    "| `bool(x)` | Boolean    | `bool(1) → True` |\n",
    "| `list(x)` | List       | `list((1, 2, 3)) → [1, 2, 3]` |\n",
    "| `tuple(x)` | Tuple      | `tuple([1, 2, 3]) → (1, 2, 3)` |\n",
    "| `set(x)`  | Set        | `set([1, 2, 2, 3]) → {1, 2, 3}` |\n"
   ]
  },
  {
   "cell_type": "code",
   "execution_count": null,
   "metadata": {},
   "outputs": [],
   "source": [
    "### 🛠️ Example of Explicit Type Conversion  \n",
    "num = \"100\"  # String\n",
    "to_int = int(num)  # Convert string to integer\n",
    "\n",
    "print(to_int)  # Output: 100\n",
    "print(type(to_int))  # Output: <class 'int'>\n"
   ]
  },
  {
   "cell_type": "markdown",
   "metadata": {},
   "source": [
    "### ⚠️ Handling Type Conversion Errors  \n",
    "If conversion is not possible, Python raises a `ValueError`.  "
   ]
  },
  {
   "cell_type": "code",
   "execution_count": 9,
   "metadata": {},
   "outputs": [
    {
     "name": "stdout",
     "output_type": "stream",
     "text": [
      "123\n"
     ]
    }
   ],
   "source": [
    "num_str = \"abc\"\n",
    "#num_int = int(num_str)  # ❌ ValueError: invalid literal for int()\n",
    "\n",
    "#To prevent errors, always **validate input** before conversion.\n",
    "\n",
    "num_str = \"123\"\n",
    "if num_str.isdigit():\n",
    "    num_int = int(num_str)\n",
    "    print(num_int)  # Output: 123\n",
    "else:\n",
    "    print(\"Cannot convert to integer!\")\n",
    "\n"
   ]
  },
  {
   "cell_type": "markdown",
   "metadata": {},
   "source": [
    "## 🎯 When to Use Type Conversion?  \n",
    "✅ When handling **user input**, which is always received as a string.  \n",
    "✅ When performing **mathematical operations** that require numerical types.  \n",
    "✅ When working with **APIs** that return data in different formats.  \n",
    "✅ When **optimizing performance** by reducing memory consumption.\n",
    "\n",
    "---\n",
    "Would you like to explore **advanced type conversion** such as custom casting with `__int__` and `__str__` methods? 🚀\n",
    "\n"
   ]
  },
  {
   "cell_type": "markdown",
   "metadata": {},
   "source": [
    "## 🌍 Scope of Variables in Python  \n",
    "\n",
    "### 🌟 What is Variable Scope?  \n",
    "The **scope** of a variable defines where it can be accessed within a program. Python has different scopes depending on where the variable is declared.\n",
    "\n",
    "### 🔹 Types of Variable Scope in Python  \n",
    "Python follows the **LEGB Rule** for variable resolution:\n",
    "1️⃣ **Local Scope** – Inside a function\n",
    "2️⃣ **Enclosing Scope** – Inside nested functions\n",
    "3️⃣ **Global Scope** – Outside any function\n",
    "4️⃣ **Built-in Scope** – Predefined in Python\n",
    "\n",
    "---\n",
    "\n",
    "## 🔵 1️⃣ Local Scope  \n",
    "A **local variable** is defined inside a function and is accessible only within that function.  \n",
    "\n",
    "🛠️ **Example:**"
   ]
  },
  {
   "cell_type": "code",
   "execution_count": 12,
   "metadata": {},
   "outputs": [
    {
     "name": "stdout",
     "output_type": "stream",
     "text": [
      "10\n"
     ]
    }
   ],
   "source": [
    "def my_function():\n",
    "    x = 10  # Local variable\n",
    "    print(x)  # ✅ Accessible inside function\n",
    "\n",
    "my_function()\n",
    "# print(x)  # ❌ Error: x is not defined outside the function\n"
   ]
  },
  {
   "cell_type": "markdown",
   "metadata": {},
   "source": [
    "## 🔵 3️⃣ Global Scope  \n",
    "A **global variable** is defined outside any function and is accessible throughout the program.\n",
    "\n",
    "🛠️ **Example:**"
   ]
  },
  {
   "cell_type": "code",
   "execution_count": 14,
   "metadata": {},
   "outputs": [
    {
     "name": "stdout",
     "output_type": "stream",
     "text": [
      "I am global\n",
      "I am global\n",
      "100\n",
      "150\n",
      "150\n"
     ]
    }
   ],
   "source": [
    "\n",
    "global_var = \"I am global\"\n",
    "\n",
    "def display():\n",
    "    print(global_var)  # ✅ Accessible inside function\n",
    "\n",
    "display()\n",
    "print(global_var)  # ✅ Accessible outside function\n",
    "\n",
    "\n",
    "#🔹 To modify a global variable inside a function, use the `global` keyword:\n",
    "y = 100\n",
    "\n",
    "print(y)\n",
    "def modify_global():\n",
    "    global y\n",
    "    y += 50\n",
    "    print(y)\n",
    "\n",
    "modify_global()\n",
    "print(y)  # ✅ Changes reflected globally"
   ]
  },
  {
   "cell_type": "markdown",
   "metadata": {},
   "source": [
    "## 🔄 LEGB Rule (Scope Resolution Order)  \n",
    "When Python encounters a variable, it searches in the following order:\n",
    "1️⃣ **Local** → Inside the function.\n",
    "2️⃣ **Enclosing** → Inside any enclosing function (if nested).\n",
    "3️⃣ **Global** → Defined outside functions.\n",
    "4️⃣ **Built-in** → Python’s predefined functions.\n",
    "\n",
    "🛠️ **Example:**\n",
    "\n",
    "\n"
   ]
  },
  {
   "cell_type": "code",
   "execution_count": 16,
   "metadata": {},
   "outputs": [
    {
     "name": "stdout",
     "output_type": "stream",
     "text": [
      "local\n",
      "enclosing\n",
      "global\n"
     ]
    }
   ],
   "source": [
    "x = \"global\"\n",
    "\n",
    "def outer():\n",
    "    x = \"enclosing\"\n",
    "    \n",
    "    def inner():\n",
    "        x = \"local\"\n",
    "        print(x)  # Local scope\n",
    "    \n",
    "    inner()\n",
    "    print(x)  # Enclosing scope\n",
    "\n",
    "outer()\n",
    "print(x)  # Global scope\n",
    "\n",
    "\n"
   ]
  },
  {
   "cell_type": "markdown",
   "metadata": {},
   "source": [
    "### 🎯 Key Takeaways  \n",
    "✅ Use **local scope** for temporary calculations.  \n",
    "✅ Use **global scope** sparingly to avoid conflicts.  \n",
    "✅ Use **nonlocal variables** for nested function modifications.  \n",
    "✅ Follow the **LEGB Rule** to understand scope resolution.  \n"
   ]
  }
 ],
 "metadata": {
  "kernelspec": {
   "display_name": "Python 3",
   "language": "python",
   "name": "python3"
  },
  "language_info": {
   "codemirror_mode": {
    "name": "ipython",
    "version": 3
   },
   "file_extension": ".py",
   "mimetype": "text/x-python",
   "name": "python",
   "nbconvert_exporter": "python",
   "pygments_lexer": "ipython3",
   "version": "3.13.1"
  }
 },
 "nbformat": 4,
 "nbformat_minor": 2
}
